{
 "cells": [
  {
   "cell_type": "code",
   "execution_count": 2,
   "metadata": {},
   "outputs": [],
   "source": [
    "import pandas as pd\n",
    "import yfinance as yf"
   ]
  },
  {
   "cell_type": "code",
   "execution_count": 3,
   "metadata": {},
   "outputs": [
    {
     "name": "stdout",
     "output_type": "stream",
     "text": [
      "           Open        High         Low       Close       Volume  Dividends  \\\n",
      "0    114.160004  114.680000  112.349998  114.400002   54187300.0        0.0   \n",
      "1    114.260002  118.190002  113.160004  117.599998   95279300.0        0.0   \n",
      "2    119.489998  119.500000  107.379997  109.349998  173372000.0        0.0   \n",
      "3    108.949997  114.959999  108.949997  113.150002   90605400.0        0.0   \n",
      "4    114.480003  118.849998  113.959999  115.820000   83083100.0        0.0   \n",
      "..          ...         ...         ...         ...          ...        ...   \n",
      "251   10.400000   10.440000   10.070000   10.210000    8781500.0        0.0   \n",
      "252   10.200000   10.450000   10.200000   10.420000    8737400.0        0.0   \n",
      "253   10.390000   10.520000   10.300000   10.440000    9019000.0        0.0   \n",
      "254   10.440000   10.510000   10.370000   10.380000   10766900.0        0.0   \n",
      "255    5.960000    6.680000    5.580000    6.505000   39006560.0        0.0   \n",
      "\n",
      "     Stock Splits symbol  \n",
      "0             0.0    AMD  \n",
      "1             0.0    AMD  \n",
      "2             0.0    AMD  \n",
      "3             0.0    AMD  \n",
      "4             0.0    AMD  \n",
      "..            ...    ...  \n",
      "251           0.0   NYCB  \n",
      "252           0.0   NYCB  \n",
      "253           0.0   NYCB  \n",
      "254           0.0   NYCB  \n",
      "255           0.0   NYCB  \n",
      "\n",
      "[256 rows x 8 columns]\n"
     ]
    }
   ],
   "source": [
    "tickers_list = ['AMD','NYCB']\n",
    "\n",
    "# Store multiple result sets.\n",
    "full_price_history = []\n",
    "\n",
    "for ticker in tickers_list:\n",
    "    price_history = yf.Ticker(ticker).history(period=\"6mo\", interval=\"1d\")\n",
    "\n",
    "    for index, row in price_history.iterrows():\n",
    "        row_data = row.to_dict()\n",
    "        row_data['symbol'] = ticker\n",
    "        full_price_history.append(row_data)\n",
    "\n",
    "# Dump the data to a CSV file, don't have an index column\n",
    "price_data = pd.DataFrame(full_price_history)\n",
    "price_data.to_csv('price_data.csv', index=False)\n",
    "print(price_data)"
   ]
  },
  {
   "cell_type": "code",
   "execution_count": null,
   "metadata": {},
   "outputs": [],
   "source": []
  }
 ],
 "metadata": {
  "kernelspec": {
   "display_name": "Python 3",
   "language": "python",
   "name": "python3"
  },
  "language_info": {
   "codemirror_mode": {
    "name": "ipython",
    "version": 3
   },
   "file_extension": ".py",
   "mimetype": "text/x-python",
   "name": "python",
   "nbconvert_exporter": "python",
   "pygments_lexer": "ipython3",
   "version": "3.12.0"
  }
 },
 "nbformat": 4,
 "nbformat_minor": 2
}
