{
 "cells": [
  {
   "cell_type": "code",
   "execution_count": 2,
   "metadata": {},
   "outputs": [],
   "source": [
    "import pandas as pd\n",
    "import yfinance as yf"
   ]
  },
  {
   "cell_type": "code",
   "execution_count": 10,
   "metadata": {},
   "outputs": [
    {
     "name": "stdout",
     "output_type": "stream",
     "text": [
      "           Open        High         Low       Close       Volume  Dividends  \\\n",
      "0    114.160004  114.680000  112.349998  114.400002   54187300.0        0.0   \n",
      "1    114.260002  118.190002  113.160004  117.599998   95279300.0        0.0   \n",
      "2    119.489998  119.500000  107.379997  109.349998  173372000.0        0.0   \n",
      "3    108.949997  114.959999  108.949997  113.150002   90605400.0        0.0   \n",
      "4    114.480003  118.849998  113.959999  115.820000   83083100.0        0.0   \n",
      "..          ...         ...         ...         ...          ...        ...   \n",
      "123  183.410004  184.919998  177.630005  180.330002  127171400.0        0.0   \n",
      "124  175.289993  181.229996  174.149994  177.250000  107270800.0        0.0   \n",
      "125  178.770004  178.889999  174.399994  177.830002   89384500.0        0.0   \n",
      "126  176.130005  178.479996  169.520004  172.059998  121002100.0        0.0   \n",
      "127  165.740005  168.839996  162.560196  167.025101   29078757.0        0.0   \n",
      "\n",
      "     Stock Splits symbol  \n",
      "0             0.0    AMD  \n",
      "1             0.0    AMD  \n",
      "2             0.0    AMD  \n",
      "3             0.0    AMD  \n",
      "4             0.0    AMD  \n",
      "..            ...    ...  \n",
      "123           0.0    AMD  \n",
      "124           0.0    AMD  \n",
      "125           0.0    AMD  \n",
      "126           0.0    AMD  \n",
      "127           0.0    AMD  \n",
      "\n",
      "[128 rows x 8 columns]\n"
     ]
    }
   ],
   "source": [
    "tickers_list = ['AMD']\n",
    "\n",
    "# Store multiple result sets.\n",
    "full_price_history = []\n",
    "\n",
    "for ticker in tickers_list:\n",
    "    price_history = yf.Ticker(ticker).history(period=\"6mo\", interval=\"1d\")\n",
    "\n",
    "    for index, row in price_history.iterrows():\n",
    "        row_data = row.to_dict()\n",
    "        row_data['symbol'] = ticker\n",
    "        full_price_history.append(row_data)\n",
    "\n",
    "# Dump the data to a CSV file, don't have an index column\n",
    "price_data = pd.DataFrame(full_price_history)\n",
    "price_data.to_csv('price_data.csv', index=False)\n",
    "print(price_data)"
   ]
  },
  {
   "cell_type": "code",
   "execution_count": null,
   "metadata": {},
   "outputs": [],
   "source": []
  }
 ],
 "metadata": {
  "kernelspec": {
   "display_name": "Python 3",
   "language": "python",
   "name": "python3"
  },
  "language_info": {
   "codemirror_mode": {
    "name": "ipython",
    "version": 3
   },
   "file_extension": ".py",
   "mimetype": "text/x-python",
   "name": "python",
   "nbconvert_exporter": "python",
   "pygments_lexer": "ipython3",
   "version": "3.12.0"
  }
 },
 "nbformat": 4,
 "nbformat_minor": 2
}
